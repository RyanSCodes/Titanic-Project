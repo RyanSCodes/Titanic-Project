{
 "cells": [
  {
   "cell_type": "code",
   "execution_count": 1,
   "metadata": {
    "collapsed": true
   },
   "outputs": [],
   "source": [
    "import numpy as np\n",
    "import pandas as pd\n",
    "\n",
    "import matplotlib.pyplot as plt\n",
    "%matplotlib inline "
   ]
  },
  {
   "cell_type": "code",
   "execution_count": 2,
   "metadata": {
    "collapsed": true
   },
   "outputs": [],
   "source": [
    "from sklearn import svm\n",
    "from sklearn import metrics"
   ]
  },
  {
   "cell_type": "code",
   "execution_count": 3,
   "metadata": {
    "collapsed": false
   },
   "outputs": [],
   "source": [
    "df_train = pd.read_csv('train_clean2.csv')\n",
    "df_pred = pd.read_csv('test.csv')"
   ]
  },
  {
   "cell_type": "code",
   "execution_count": 4,
   "metadata": {
    "collapsed": true
   },
   "outputs": [],
   "source": [
    "def maleFemaleChild(passenger) :\n",
    "    age, sex = passenger\n",
    "    if age < 16 :\n",
    "        return 'child'\n",
    "    else :\n",
    "        return sex"
   ]
  },
  {
   "cell_type": "code",
   "execution_count": 5,
   "metadata": {
    "collapsed": false
   },
   "outputs": [],
   "source": [
    "df_work = df_pred\n",
    "df_work['Person'] = df_work[['Age', 'Sex']].apply(maleFemaleChild, axis=1)"
   ]
  },
  {
   "cell_type": "code",
   "execution_count": 6,
   "metadata": {
    "collapsed": true
   },
   "outputs": [],
   "source": [
    "gb_Pclass = df_work.groupby(['Pclass', 'Person']).mean()\n",
    "\n",
    "chi_vec = [gb_Pclass.iloc[0]['Age'], gb_Pclass.iloc[3]['Age'], gb_Pclass.iloc[6]['Age']]\n",
    "fem_vec = [gb_Pclass.iloc[1]['Age'], gb_Pclass.iloc[4]['Age'], gb_Pclass.iloc[7]['Age']]\n",
    "mal_vec = [gb_Pclass.iloc[2]['Age'], gb_Pclass.iloc[5]['Age'], gb_Pclass.iloc[8]['Age']]"
   ]
  },
  {
   "cell_type": "code",
   "execution_count": 7,
   "metadata": {
    "collapsed": true
   },
   "outputs": [],
   "source": [
    "def age_NaN_filler(cols) :\n",
    "    Age, Pclass, Person = cols\n",
    "    if np.isnan(Age) :\n",
    "        if Pclass == 1 :\n",
    "            if Person == 'child' :\n",
    "                return chi_vec[0]\n",
    "            if Person == 'female' :\n",
    "                return fem_vec[0]\n",
    "            if Person == 'male' :\n",
    "                return mal_vec[0]\n",
    "        if Pclass == 2 :\n",
    "            if Person == 'child' :\n",
    "                return chi_vec[1]\n",
    "            if Person == 'female' :\n",
    "                return fem_vec[1]\n",
    "            if Person == 'male' :\n",
    "                return mal_vec[1]\n",
    "        if Pclass == 3 :\n",
    "            if Person == 'child' :\n",
    "                return chi_vec[2]\n",
    "            if Person == 'female' :\n",
    "                return fem_vec[2]\n",
    "            if Person == 'male' :\n",
    "                return mal_vec[2]\n",
    "    else :\n",
    "        return Age"
   ]
  },
  {
   "cell_type": "code",
   "execution_count": 8,
   "metadata": {
    "collapsed": true
   },
   "outputs": [],
   "source": [
    "df_work['Age'] = df_work[['Age', 'Pclass', 'Person']].apply(age_NaN_filler, axis=1)"
   ]
  },
  {
   "cell_type": "code",
   "execution_count": 9,
   "metadata": {
    "collapsed": true
   },
   "outputs": [],
   "source": [
    "def family(passenger) :\n",
    "    siblings, parents = passenger\n",
    "    if (siblings == 0) and (parents == 0) :\n",
    "        return 0\n",
    "    else :\n",
    "        return 1"
   ]
  },
  {
   "cell_type": "code",
   "execution_count": 10,
   "metadata": {
    "collapsed": true
   },
   "outputs": [],
   "source": [
    "df_work['Family'] = df_work[['SibSp', 'Parch']].apply(family, axis=1)"
   ]
  },
  {
   "cell_type": "code",
   "execution_count": 11,
   "metadata": {
    "collapsed": true
   },
   "outputs": [],
   "source": [
    "person_df = pd.get_dummies(df_work['Person'])\n",
    "class_df = pd.get_dummies(df_work['Pclass'])\n",
    "class_df.columns = ['First', 'Second', 'Third']\n",
    "person_df.columns = ['Child', 'Female', 'Male']\n",
    "\n",
    "df_work = pd.concat([df_work, person_df], axis=1)\n",
    "df_work = pd.concat([df_work, class_df], axis=1)"
   ]
  },
  {
   "cell_type": "code",
   "execution_count": 12,
   "metadata": {
    "collapsed": false
   },
   "outputs": [],
   "source": [
    "df_work.drop(['Fare', 'Embarked', 'PassengerId', 'Name', 'Sex', 'SibSp', 'Parch',\n",
    "              'Ticket', 'Child', 'Third', 'Person', 'Pclass', 'Cabin'],\n",
    "             axis=1, inplace=True)"
   ]
  },
  {
   "cell_type": "code",
   "execution_count": 13,
   "metadata": {
    "collapsed": false
   },
   "outputs": [],
   "source": [
    "Y = df_train.Survived\n",
    "Y = np.ravel(Y)\n",
    "\n",
    "df_train.drop(['Survived'], axis=1, inplace=True)"
   ]
  },
  {
   "cell_type": "code",
   "execution_count": 14,
   "metadata": {
    "collapsed": true
   },
   "outputs": [],
   "source": [
    "rbf_svc = svm.SVC(gamma=0.1, C=1.6)\n",
    "rbf_svc.fit(df_train, Y)\n",
    "\n",
    "Y_pred = rbf_svc.predict(df_work)"
   ]
  },
  {
   "cell_type": "code",
   "execution_count": 15,
   "metadata": {
    "collapsed": false
   },
   "outputs": [],
   "source": [
    "df = pd.Series(Y_pred)"
   ]
  },
  {
   "cell_type": "code",
   "execution_count": 16,
   "metadata": {
    "collapsed": false
   },
   "outputs": [],
   "source": [
    "df2 = df_pred.PassengerId\n",
    "df = pd.concat([df2, df], axis=1)\n",
    "df.columns = ['PassengerId', 'Survived']\n",
    "df.to_csv('Titanic_pred_SVM.csv', index=False, header=True)"
   ]
  },
  {
   "cell_type": "code",
   "execution_count": null,
   "metadata": {
    "collapsed": true
   },
   "outputs": [],
   "source": []
  }
 ],
 "metadata": {
  "kernelspec": {
   "display_name": "Python 2",
   "language": "python",
   "name": "python2"
  },
  "language_info": {
   "codemirror_mode": {
    "name": "ipython",
    "version": 2
   },
   "file_extension": ".py",
   "mimetype": "text/x-python",
   "name": "python",
   "nbconvert_exporter": "python",
   "pygments_lexer": "ipython2",
   "version": "2.7.11"
  }
 },
 "nbformat": 4,
 "nbformat_minor": 0
}
